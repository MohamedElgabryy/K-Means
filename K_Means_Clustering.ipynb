{
  "nbformat": 4,
  "nbformat_minor": 0,
  "metadata": {
    "colab": {
      "provenance": [],
      "authorship_tag": "ABX9TyOU9nVVl2JIC9RGrlNCYPje",
      "include_colab_link": true
    },
    "kernelspec": {
      "name": "python3",
      "display_name": "Python 3"
    },
    "language_info": {
      "name": "python"
    }
  },
  "cells": [
    {
      "cell_type": "markdown",
      "metadata": {
        "id": "view-in-github",
        "colab_type": "text"
      },
      "source": [
        "<a href=\"https://colab.research.google.com/github/MohamedElgabryy/K-Means/blob/main/K_Means_Clustering.ipynb\" target=\"_parent\"><img src=\"https://colab.research.google.com/assets/colab-badge.svg\" alt=\"Open In Colab\"/></a>"
      ]
    },
    {
      "cell_type": "code",
      "execution_count": 1,
      "metadata": {
        "colab": {
          "base_uri": "https://localhost:8080/"
        },
        "id": "UetOVwhJUVye",
        "outputId": "f199cbd7-0930-4120-8d93-f0a1c550e88e"
      },
      "outputs": [
        {
          "output_type": "stream",
          "name": "stderr",
          "text": [
            "<ipython-input-1-1794ab4e2e49>:8: FutureWarning: The default value of numeric_only in DataFrame.mean is deprecated. In a future version, it will default to False. In addition, specifying 'numeric_only=None' is deprecated. Select only valid columns or specify the value of numeric_only to silence this warning.\n",
            "  df_norm = (df - df.mean()) / df.std()\n",
            "<ipython-input-1-1794ab4e2e49>:8: FutureWarning: The default value of numeric_only in DataFrame.std is deprecated. In a future version, it will default to False. In addition, specifying 'numeric_only=None' is deprecated. Select only valid columns or specify the value of numeric_only to silence this warning.\n",
            "  df_norm = (df - df.mean()) / df.std()\n"
          ]
        },
        {
          "output_type": "stream",
          "name": "stdout",
          "text": [
            "Enter the number of clusters: 3\n",
            "Cluster 1: [0, 1, 2, 4, 8, 9, 12, 17, 19, 21, 23, 27, 30, 31, 32, 39, 41, 42]\n",
            "Cluster 2: [3, 5, 7, 10, 13, 15, 20, 24, 29, 34, 35, 36, 37, 38, 43, 45, 46, 49]\n",
            "Cluster 3: [6, 11, 14, 16, 18, 22, 25, 26, 28, 33, 40, 44, 47, 48]\n",
            "Outliers: [8, 14, 18, 19, 21, 27, 28, 30, 33, 40, 44, 47]\n"
          ]
        }
      ],
      "source": [
        "import pandas as pd\n",
        "import numpy as np\n",
        "\n",
        "# Load the data\n",
        "df = pd.read_csv('crime_data.csv')\n",
        "\n",
        "# Normalize the data\n",
        "df_norm = (df - df.mean()) / df.std()\n",
        "\n",
        "# Prompt the user for the number of clusters\n",
        "k = int(input(\"Enter the number of clusters: \"))\n",
        "\n",
        "# Initialize the centroids\n",
        "centroids = df_norm.sample(n=k)\n",
        "\n",
        "old_centroids = pd.DataFrame()\n",
        "iterations = 0\n",
        "\n",
        "while not centroids.equals(old_centroids):\n",
        "    # Assign each data point to the nearest centroid\n",
        "    distances = pd.DataFrame()\n",
        "    for i in range(k):\n",
        "        distances[i] = np.abs(df_norm - centroids.iloc[i]).sum(axis=1)\n",
        "    labels = distances.idxmin(axis=1)\n",
        "\n",
        "    # Update the centroids\n",
        "    old_centroids = centroids.copy()\n",
        "    for i in range(k):\n",
        "        if labels.eq(i).any():\n",
        "            centroids.iloc[i] = df_norm.loc[labels.eq(i)].mean()\n",
        "        else:\n",
        "            #centroids.iloc[i] = df_norm.sample(n=1)\n",
        "            centroids.iloc[i] = old_centroids.iloc[i]\n",
        "\n",
        "    # Increment the iteration counter\n",
        "    iterations += 1\n",
        "\n",
        "# Identify outlier data points\n",
        "distances = pd.DataFrame()\n",
        "for i in range(k):\n",
        "    distances[i] = np.abs(df_norm - centroids.iloc[i]).sum(axis=1)\n",
        "std_devs = distances.std(axis=1)\n",
        "outliers = df.loc[std_devs > 3].index\n",
        "\n",
        "# Print the final clusters and outliers\n",
        "for i in range(k):\n",
        "    print(f\"Cluster {i+1}: {df.loc[labels.eq(i)].index.tolist()}\")\n",
        "print(f\"Outliers: {outliers.tolist()}\")"
      ]
    }
  ]
}